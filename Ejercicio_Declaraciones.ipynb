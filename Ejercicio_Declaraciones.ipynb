{
 "cells": [
  {
   "cell_type": "code",
   "execution_count": null,
   "metadata": {},
   "outputs": [],
   "source": []
  },
  {
   "cell_type": "markdown",
   "metadata": {},
   "source": [
    "Ejercicio - Escribir declaraciones if, else, y elif"
   ]
  },
  {
   "cell_type": "markdown",
   "metadata": {},
   "source": [
    "Ejercicio 1:"
   ]
  },
  {
   "cell_type": "code",
   "execution_count": 5,
   "metadata": {},
   "outputs": [
    {
     "name": "stdout",
     "output_type": "stream",
     "text": [
      "¡Cuidado un asteroide se acerca a la tierra con una velocidad mayor a 25km/s!!!!!!\n"
     ]
    }
   ],
   "source": [
    "    cometa = 49\n",
    "if cometa > 25:\n",
    "    print('¡Cuidado un asteroide se acerca a la tierra con una velocidad mayor a 25km/s!!!!!!')\n",
    "else:\n",
    "    print('Hay un cometa viajando a una velocidad menor a 25km/s')"
   ]
  },
  {
   "cell_type": "markdown",
   "metadata": {},
   "source": [
    "Ejercicio 2:"
   ]
  },
  {
   "cell_type": "code",
   "execution_count": 4,
   "metadata": {},
   "outputs": [
    {
     "name": "stdout",
     "output_type": "stream",
     "text": [
      "El cometa no sera visible\n"
     ]
    }
   ],
   "source": [
    "cometa = 19\n",
    "if cometa > 20:\n",
    "    print('Avistamiento de Luz en el cielo, producido por un cometa!')\n",
    "elif cometa == 20:\n",
    "    print('Posible avistamiento de Luz en el cielo')\n",
    "else:\n",
    "    print('El cometa no sera visible')"
   ]
  },
  {
   "cell_type": "markdown",
   "metadata": {},
   "source": [
    "Ejercicio 3:"
   ]
  },
  {
   "cell_type": "code",
   "execution_count": 8,
   "metadata": {},
   "outputs": [
    {
     "name": "stdout",
     "output_type": "stream",
     "text": [
      "Se podrá ver un cometa pasar por el cielo\n"
     ]
    }
   ],
   "source": [
    "rapidez_cometa = 20\n",
    "volumen_cometa = 40\n",
    "if rapidez_cometa > 25 and volumen_cometa > 25:\n",
    "    print('Un Cometa se estrellará contra la tierra!!!!!!')\n",
    "elif rapidez_cometa >= 20:\n",
    "    print('Se podrá ver un cometa pasar por el cielo')\n",
    "elif volumen_cometa < 25:\n",
    "    print('El cometa no será visible')\n",
    "else:\n",
    "    print('El cometa no será visible')"
   ]
  }
 ],
 "metadata": {
  "interpreter": {
   "hash": "0f97c36470e07eb2059676c3ca10c989606c11735a958ad6b7e094ed9b85fefa"
  },
  "kernelspec": {
   "display_name": "Python 3.10.2 64-bit",
   "language": "python",
   "name": "python3"
  },
  "language_info": {
   "codemirror_mode": {
    "name": "ipython",
    "version": 3
   },
   "file_extension": ".py",
   "mimetype": "text/x-python",
   "name": "python",
   "nbconvert_exporter": "python",
   "pygments_lexer": "ipython3",
   "version": "3.10.2"
  },
  "orig_nbformat": 4
 },
 "nbformat": 4,
 "nbformat_minor": 2
}
