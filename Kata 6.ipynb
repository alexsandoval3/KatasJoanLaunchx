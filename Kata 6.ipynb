{
 "cells": [
  {
   "cell_type": "code",
   "execution_count": null,
   "metadata": {},
   "outputs": [],
   "source": []
  },
  {
   "cell_type": "markdown",
   "metadata": {},
   "source": [
    "#  Usar listas para almacenar nombres de planetas"
   ]
  },
  {
   "cell_type": "markdown",
   "metadata": {},
   "source": [
    "Ejercicio 1"
   ]
  },
  {
   "cell_type": "code",
   "execution_count": 4,
   "metadata": {},
   "outputs": [
    {
     "name": "stdout",
     "output_type": "stream",
     "text": [
      "El número de planetas en el sistema solar es: 8\n"
     ]
    }
   ],
   "source": [
    "Planetas = [\"Mercurio\", \"Venus\", \"Tierra\", \"Marte\", \"Jupiter\", \"Saturno\", \"Urano\", \"Neptuno\"]\n",
    "conteoplanetas = len(Planetas)\n",
    "print(\"El número de planetas en el sistema solar es:\", conteoplanetas)"
   ]
  },
  {
   "cell_type": "code",
   "execution_count": 7,
   "metadata": {},
   "outputs": [
    {
     "name": "stdout",
     "output_type": "stream",
     "text": [
      "El número de planetas en el sistema solar es: 9 y el ultimo planeta es: Plutón\n"
     ]
    }
   ],
   "source": [
    "Planetas = [\"Mercurio\", \"Venus\", \"Tierra\", \"Marte\", \"Jupiter\", \"Saturno\", \"Urano\", \"Neptuno\",\"Plutón\"]\n",
    "conteoplanetas = len(Planetas)\n",
    "print(\"El número de planetas en el sistema solar es:\", conteoplanetas, \"y el ultimo planeta es:\", Planetas[8] )"
   ]
  },
  {
   "cell_type": "markdown",
   "metadata": {},
   "source": [
    "Ejercicio 2"
   ]
  },
  {
   "cell_type": "code",
   "execution_count": 14,
   "metadata": {},
   "outputs": [
    {
     "name": "stdout",
     "output_type": "stream",
     "text": [
      "Estos son los planetas más cercanos al sol Earth\n",
      "['Mercury', 'Venus']\n",
      "y estos son los planetas más lejanos al solEarth\n",
      "['Mars', 'Jupiter', 'Saturn', 'Neptune']\n"
     ]
    }
   ],
   "source": [
    "planeta = ['Mercury', 'Venus', 'Earth', 'Mars', 'Jupiter', 'Saturn', 'Neptune']\n",
    "planetausuario = input(\"Favor de indicar el nomebre de uno de los 9 planetas\")\n",
    "busquedaplaneta = planeta.index(planetausuario)\n",
    "print('Estos son los planetas más cercanos al sol ' + planetausuario)\n",
    "print(planeta[0:busquedaplaneta])\n",
    "\n",
    "print('y estos son los planetas más lejanos al sol' + planetausuario)\n",
    "print(planeta[busquedaplaneta+ 1:])"
   ]
  }
 ],
 "metadata": {
  "interpreter": {
   "hash": "0f97c36470e07eb2059676c3ca10c989606c11735a958ad6b7e094ed9b85fefa"
  },
  "kernelspec": {
   "display_name": "Python 3.10.2 64-bit",
   "language": "python",
   "name": "python3"
  },
  "language_info": {
   "codemirror_mode": {
    "name": "ipython",
    "version": 3
   },
   "file_extension": ".py",
   "mimetype": "text/x-python",
   "name": "python",
   "nbconvert_exporter": "python",
   "pygments_lexer": "ipython3",
   "version": "3.10.2"
  },
  "orig_nbformat": 4
 },
 "nbformat": 4,
 "nbformat_minor": 2
}
