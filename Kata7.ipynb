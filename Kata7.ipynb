{
 "cells": [
  {
   "cell_type": "code",
   "execution_count": null,
   "metadata": {},
   "outputs": [],
   "source": []
  },
  {
   "cell_type": "markdown",
   "metadata": {},
   "source": [
    "Ejercicio 1"
   ]
  },
  {
   "cell_type": "code",
   "execution_count": 1,
   "metadata": {},
   "outputs": [
    {
     "name": "stdout",
     "output_type": "stream",
     "text": [
      "[' ']\n",
      "[' ', 'Mercurio']\n",
      "[' ', 'Mercurio', 'Jupiter']\n",
      "[' ', 'Mercurio', 'Jupiter', 'Saturno']\n",
      "[' ', 'Mercurio', 'Jupiter', 'Saturno', 'Urano']\n",
      "[' ', 'Mercurio', 'Jupiter', 'Saturno', 'Urano', 'Neptuno']\n",
      "[' ', 'Mercurio', 'Jupiter', 'Saturno', 'Urano', 'Neptuno', 'Pluton']\n",
      "[' ', 'Mercurio', 'Jupiter', 'Saturno', 'Urano', 'Neptuno', 'Pluton', 'Tierra']\n",
      "[' ', 'Mercurio', 'Jupiter', 'Saturno', 'Urano', 'Neptuno', 'Pluton', 'Tierra', 'Marte']\n",
      "[' ', 'Mercurio', 'Jupiter', 'Saturno', 'Urano', 'Neptuno', 'Pluton', 'Tierra', 'Marte']\n"
     ]
    },
    {
     "ename": "KeyboardInterrupt",
     "evalue": "Interrupted by user",
     "output_type": "error",
     "traceback": [
      "\u001b[1;31m---------------------------------------------------------------------------\u001b[0m",
      "\u001b[1;31mKeyboardInterrupt\u001b[0m                         Traceback (most recent call last)",
      "\u001b[1;32mc:\\Users\\USUARIO.000\\Documents\\Python_JBS\\Kata 7\\Kata7.ipynb Cell 3'\u001b[0m in \u001b[0;36m<module>\u001b[1;34m\u001b[0m\n\u001b[0;32m      <a href='vscode-notebook-cell:/c%3A/Users/USUARIO.000/Documents/Python_JBS/Kata%207/Kata7.ipynb#ch0000002?line=4'>5</a>\u001b[0m \u001b[39mif\u001b[39;00m planeta_nuevo: \n\u001b[0;32m      <a href='vscode-notebook-cell:/c%3A/Users/USUARIO.000/Documents/Python_JBS/Kata%207/Kata7.ipynb#ch0000002?line=5'>6</a>\u001b[0m     planetas\u001b[39m.\u001b[39mappend(planeta_nuevo)\n\u001b[1;32m----> <a href='vscode-notebook-cell:/c%3A/Users/USUARIO.000/Documents/Python_JBS/Kata%207/Kata7.ipynb#ch0000002?line=6'>7</a>\u001b[0m planeta_nuevo \u001b[39m=\u001b[39m \u001b[39minput\u001b[39;49m(\u001b[39m'\u001b[39;49m\u001b[39mCapture un planeta nuevo:\u001b[39;49m\u001b[39m'\u001b[39;49m)\n\u001b[0;32m      <a href='vscode-notebook-cell:/c%3A/Users/USUARIO.000/Documents/Python_JBS/Kata%207/Kata7.ipynb#ch0000002?line=7'>8</a>\u001b[0m \u001b[39mprint\u001b[39m (planetas)\n",
      "File \u001b[1;32m~\\AppData\\Roaming\\Python\\Python310\\site-packages\\ipykernel\\kernelbase.py:1062\u001b[0m, in \u001b[0;36mKernel.raw_input\u001b[1;34m(self, prompt)\u001b[0m\n\u001b[0;32m   <a href='file:///~/AppData/Roaming/Python/Python310/site-packages/ipykernel/kernelbase.py?line=1057'>1058</a>\u001b[0m \u001b[39mif\u001b[39;00m \u001b[39mnot\u001b[39;00m \u001b[39mself\u001b[39m\u001b[39m.\u001b[39m_allow_stdin:\n\u001b[0;32m   <a href='file:///~/AppData/Roaming/Python/Python310/site-packages/ipykernel/kernelbase.py?line=1058'>1059</a>\u001b[0m     \u001b[39mraise\u001b[39;00m StdinNotImplementedError(\n\u001b[0;32m   <a href='file:///~/AppData/Roaming/Python/Python310/site-packages/ipykernel/kernelbase.py?line=1059'>1060</a>\u001b[0m         \u001b[39m\"\u001b[39m\u001b[39mraw_input was called, but this frontend does not support input requests.\u001b[39m\u001b[39m\"\u001b[39m\n\u001b[0;32m   <a href='file:///~/AppData/Roaming/Python/Python310/site-packages/ipykernel/kernelbase.py?line=1060'>1061</a>\u001b[0m     )\n\u001b[1;32m-> <a href='file:///~/AppData/Roaming/Python/Python310/site-packages/ipykernel/kernelbase.py?line=1061'>1062</a>\u001b[0m \u001b[39mreturn\u001b[39;00m \u001b[39mself\u001b[39;49m\u001b[39m.\u001b[39;49m_input_request(\n\u001b[0;32m   <a href='file:///~/AppData/Roaming/Python/Python310/site-packages/ipykernel/kernelbase.py?line=1062'>1063</a>\u001b[0m     \u001b[39mstr\u001b[39;49m(prompt),\n\u001b[0;32m   <a href='file:///~/AppData/Roaming/Python/Python310/site-packages/ipykernel/kernelbase.py?line=1063'>1064</a>\u001b[0m     \u001b[39mself\u001b[39;49m\u001b[39m.\u001b[39;49m_parent_ident[\u001b[39m\"\u001b[39;49m\u001b[39mshell\u001b[39;49m\u001b[39m\"\u001b[39;49m],\n\u001b[0;32m   <a href='file:///~/AppData/Roaming/Python/Python310/site-packages/ipykernel/kernelbase.py?line=1064'>1065</a>\u001b[0m     \u001b[39mself\u001b[39;49m\u001b[39m.\u001b[39;49mget_parent(\u001b[39m\"\u001b[39;49m\u001b[39mshell\u001b[39;49m\u001b[39m\"\u001b[39;49m),\n\u001b[0;32m   <a href='file:///~/AppData/Roaming/Python/Python310/site-packages/ipykernel/kernelbase.py?line=1065'>1066</a>\u001b[0m     password\u001b[39m=\u001b[39;49m\u001b[39mFalse\u001b[39;49;00m,\n\u001b[0;32m   <a href='file:///~/AppData/Roaming/Python/Python310/site-packages/ipykernel/kernelbase.py?line=1066'>1067</a>\u001b[0m )\n",
      "File \u001b[1;32m~\\AppData\\Roaming\\Python\\Python310\\site-packages\\ipykernel\\kernelbase.py:1107\u001b[0m, in \u001b[0;36mKernel._input_request\u001b[1;34m(self, prompt, ident, parent, password)\u001b[0m\n\u001b[0;32m   <a href='file:///~/AppData/Roaming/Python/Python310/site-packages/ipykernel/kernelbase.py?line=1103'>1104</a>\u001b[0m             \u001b[39mbreak\u001b[39;00m\n\u001b[0;32m   <a href='file:///~/AppData/Roaming/Python/Python310/site-packages/ipykernel/kernelbase.py?line=1104'>1105</a>\u001b[0m \u001b[39mexcept\u001b[39;00m \u001b[39mKeyboardInterrupt\u001b[39;00m:\n\u001b[0;32m   <a href='file:///~/AppData/Roaming/Python/Python310/site-packages/ipykernel/kernelbase.py?line=1105'>1106</a>\u001b[0m     \u001b[39m# re-raise KeyboardInterrupt, to truncate traceback\u001b[39;00m\n\u001b[1;32m-> <a href='file:///~/AppData/Roaming/Python/Python310/site-packages/ipykernel/kernelbase.py?line=1106'>1107</a>\u001b[0m     \u001b[39mraise\u001b[39;00m \u001b[39mKeyboardInterrupt\u001b[39;00m(\u001b[39m\"\u001b[39m\u001b[39mInterrupted by user\u001b[39m\u001b[39m\"\u001b[39m) \u001b[39mfrom\u001b[39;00m \u001b[39mNone\u001b[39m\n\u001b[0;32m   <a href='file:///~/AppData/Roaming/Python/Python310/site-packages/ipykernel/kernelbase.py?line=1107'>1108</a>\u001b[0m \u001b[39mexcept\u001b[39;00m \u001b[39mException\u001b[39;00m:\n\u001b[0;32m   <a href='file:///~/AppData/Roaming/Python/Python310/site-packages/ipykernel/kernelbase.py?line=1108'>1109</a>\u001b[0m     \u001b[39mself\u001b[39m\u001b[39m.\u001b[39mlog\u001b[39m.\u001b[39mwarning(\u001b[39m\"\u001b[39m\u001b[39mInvalid Message:\u001b[39m\u001b[39m\"\u001b[39m, exc_info\u001b[39m=\u001b[39m\u001b[39mTrue\u001b[39;00m)\n",
      "\u001b[1;31mKeyboardInterrupt\u001b[0m: Interrupted by user"
     ]
    }
   ],
   "source": [
    "Nuevoplaneta = ' '\n",
    "planetas = []\n",
    "\n",
    "while Nuevoplaneta.lower() != 'Bien!':\n",
    "    if Nuevoplaneta: \n",
    "        planetas.append(Nuevoplaneta)\n",
    "    Nuevoplaneta = input('Indica un planeta más')\n",
    "    print (planetas)"
   ]
  },
  {
   "cell_type": "markdown",
   "metadata": {},
   "source": [
    "Ejercicio 2"
   ]
  },
  {
   "cell_type": "code",
   "execution_count": 1,
   "metadata": {},
   "outputs": [
    {
     "name": "stdout",
     "output_type": "stream",
     "text": [
      "[' ']\n",
      "[' ', 'Urano']\n",
      "[' ', 'Urano', 'Jupiter']\n",
      "[' ', 'Urano', 'Jupiter']\n",
      "[' ', 'Urano', 'Jupiter']\n",
      "[' ', 'Urano', 'Jupiter']\n",
      "[' ', 'Urano', 'Jupiter']\n",
      "[' ', 'Urano', 'Jupiter']\n",
      "[' ', 'Urano', 'Jupiter']\n"
     ]
    },
    {
     "ename": "KeyboardInterrupt",
     "evalue": "Interrupted by user",
     "output_type": "error",
     "traceback": [
      "\u001b[1;31m---------------------------------------------------------------------------\u001b[0m",
      "\u001b[1;31mKeyboardInterrupt\u001b[0m                         Traceback (most recent call last)",
      "\u001b[1;32mc:\\Users\\USUARIO.000\\Documents\\Python_JBS\\Kata 7\\Kata7.ipynb Cell 5'\u001b[0m in \u001b[0;36m<module>\u001b[1;34m\u001b[0m\n\u001b[0;32m      <a href='vscode-notebook-cell:/c%3A/Users/USUARIO.000/Documents/Python_JBS/Kata%207/Kata7.ipynb#ch0000004?line=4'>5</a>\u001b[0m     \u001b[39mif\u001b[39;00m NuevoPlanet: \n\u001b[0;32m      <a href='vscode-notebook-cell:/c%3A/Users/USUARIO.000/Documents/Python_JBS/Kata%207/Kata7.ipynb#ch0000004?line=5'>6</a>\u001b[0m         planets\u001b[39m.\u001b[39mappend(NuevoPlanet)\n\u001b[1;32m----> <a href='vscode-notebook-cell:/c%3A/Users/USUARIO.000/Documents/Python_JBS/Kata%207/Kata7.ipynb#ch0000004?line=6'>7</a>\u001b[0m     NuevoPlanet \u001b[39m=\u001b[39m \u001b[39minput\u001b[39;49m(\u001b[39m'\u001b[39;49m\u001b[39mCapture un planeta nuevo:\u001b[39;49m\u001b[39m'\u001b[39;49m)\n\u001b[0;32m      <a href='vscode-notebook-cell:/c%3A/Users/USUARIO.000/Documents/Python_JBS/Kata%207/Kata7.ipynb#ch0000004?line=7'>8</a>\u001b[0m     \u001b[39mprint\u001b[39m (planets)\n\u001b[0;32m      <a href='vscode-notebook-cell:/c%3A/Users/USUARIO.000/Documents/Python_JBS/Kata%207/Kata7.ipynb#ch0000004?line=8'>9</a>\u001b[0m \u001b[39mfor\u001b[39;00m Planetis \u001b[39min\u001b[39;00m planets:\n",
      "File \u001b[1;32m~\\AppData\\Roaming\\Python\\Python310\\site-packages\\ipykernel\\kernelbase.py:1062\u001b[0m, in \u001b[0;36mKernel.raw_input\u001b[1;34m(self, prompt)\u001b[0m\n\u001b[0;32m   <a href='file:///~/AppData/Roaming/Python/Python310/site-packages/ipykernel/kernelbase.py?line=1057'>1058</a>\u001b[0m \u001b[39mif\u001b[39;00m \u001b[39mnot\u001b[39;00m \u001b[39mself\u001b[39m\u001b[39m.\u001b[39m_allow_stdin:\n\u001b[0;32m   <a href='file:///~/AppData/Roaming/Python/Python310/site-packages/ipykernel/kernelbase.py?line=1058'>1059</a>\u001b[0m     \u001b[39mraise\u001b[39;00m StdinNotImplementedError(\n\u001b[0;32m   <a href='file:///~/AppData/Roaming/Python/Python310/site-packages/ipykernel/kernelbase.py?line=1059'>1060</a>\u001b[0m         \u001b[39m\"\u001b[39m\u001b[39mraw_input was called, but this frontend does not support input requests.\u001b[39m\u001b[39m\"\u001b[39m\n\u001b[0;32m   <a href='file:///~/AppData/Roaming/Python/Python310/site-packages/ipykernel/kernelbase.py?line=1060'>1061</a>\u001b[0m     )\n\u001b[1;32m-> <a href='file:///~/AppData/Roaming/Python/Python310/site-packages/ipykernel/kernelbase.py?line=1061'>1062</a>\u001b[0m \u001b[39mreturn\u001b[39;00m \u001b[39mself\u001b[39;49m\u001b[39m.\u001b[39;49m_input_request(\n\u001b[0;32m   <a href='file:///~/AppData/Roaming/Python/Python310/site-packages/ipykernel/kernelbase.py?line=1062'>1063</a>\u001b[0m     \u001b[39mstr\u001b[39;49m(prompt),\n\u001b[0;32m   <a href='file:///~/AppData/Roaming/Python/Python310/site-packages/ipykernel/kernelbase.py?line=1063'>1064</a>\u001b[0m     \u001b[39mself\u001b[39;49m\u001b[39m.\u001b[39;49m_parent_ident[\u001b[39m\"\u001b[39;49m\u001b[39mshell\u001b[39;49m\u001b[39m\"\u001b[39;49m],\n\u001b[0;32m   <a href='file:///~/AppData/Roaming/Python/Python310/site-packages/ipykernel/kernelbase.py?line=1064'>1065</a>\u001b[0m     \u001b[39mself\u001b[39;49m\u001b[39m.\u001b[39;49mget_parent(\u001b[39m\"\u001b[39;49m\u001b[39mshell\u001b[39;49m\u001b[39m\"\u001b[39;49m),\n\u001b[0;32m   <a href='file:///~/AppData/Roaming/Python/Python310/site-packages/ipykernel/kernelbase.py?line=1065'>1066</a>\u001b[0m     password\u001b[39m=\u001b[39;49m\u001b[39mFalse\u001b[39;49;00m,\n\u001b[0;32m   <a href='file:///~/AppData/Roaming/Python/Python310/site-packages/ipykernel/kernelbase.py?line=1066'>1067</a>\u001b[0m )\n",
      "File \u001b[1;32m~\\AppData\\Roaming\\Python\\Python310\\site-packages\\ipykernel\\kernelbase.py:1107\u001b[0m, in \u001b[0;36mKernel._input_request\u001b[1;34m(self, prompt, ident, parent, password)\u001b[0m\n\u001b[0;32m   <a href='file:///~/AppData/Roaming/Python/Python310/site-packages/ipykernel/kernelbase.py?line=1103'>1104</a>\u001b[0m             \u001b[39mbreak\u001b[39;00m\n\u001b[0;32m   <a href='file:///~/AppData/Roaming/Python/Python310/site-packages/ipykernel/kernelbase.py?line=1104'>1105</a>\u001b[0m \u001b[39mexcept\u001b[39;00m \u001b[39mKeyboardInterrupt\u001b[39;00m:\n\u001b[0;32m   <a href='file:///~/AppData/Roaming/Python/Python310/site-packages/ipykernel/kernelbase.py?line=1105'>1106</a>\u001b[0m     \u001b[39m# re-raise KeyboardInterrupt, to truncate traceback\u001b[39;00m\n\u001b[1;32m-> <a href='file:///~/AppData/Roaming/Python/Python310/site-packages/ipykernel/kernelbase.py?line=1106'>1107</a>\u001b[0m     \u001b[39mraise\u001b[39;00m \u001b[39mKeyboardInterrupt\u001b[39;00m(\u001b[39m\"\u001b[39m\u001b[39mInterrupted by user\u001b[39m\u001b[39m\"\u001b[39m) \u001b[39mfrom\u001b[39;00m \u001b[39mNone\u001b[39m\n\u001b[0;32m   <a href='file:///~/AppData/Roaming/Python/Python310/site-packages/ipykernel/kernelbase.py?line=1107'>1108</a>\u001b[0m \u001b[39mexcept\u001b[39;00m \u001b[39mException\u001b[39;00m:\n\u001b[0;32m   <a href='file:///~/AppData/Roaming/Python/Python310/site-packages/ipykernel/kernelbase.py?line=1108'>1109</a>\u001b[0m     \u001b[39mself\u001b[39m\u001b[39m.\u001b[39mlog\u001b[39m.\u001b[39mwarning(\u001b[39m\"\u001b[39m\u001b[39mInvalid Message:\u001b[39m\u001b[39m\"\u001b[39m, exc_info\u001b[39m=\u001b[39m\u001b[39mTrue\u001b[39;00m)\n",
      "\u001b[1;31mKeyboardInterrupt\u001b[0m: Interrupted by user"
     ]
    }
   ],
   "source": [
    "NuevoPlanet = ' '\n",
    "planets = []\n",
    "\n",
    "while NuevoPlanet.lower() != 'hecho':\n",
    "    if NuevoPlanet: \n",
    "        planets.append(NuevoPlanet)\n",
    "    NuevoPlanet = input('Capture un planeta nuevo:')\n",
    "    print (planets)\n",
    "for Planetis in planets:\n",
    "    print(planets)"
   ]
  }
 ],
 "metadata": {
  "interpreter": {
   "hash": "51ea69e82372a1952c8fafba80b802e8a96bc2a21e4402d24d38b2baf992aada"
  },
  "kernelspec": {
   "display_name": "Python 3.10.2 64-bit (windows store)",
   "language": "python",
   "name": "python3"
  },
  "language_info": {
   "codemirror_mode": {
    "name": "ipython",
    "version": 3
   },
   "file_extension": ".py",
   "mimetype": "text/x-python",
   "name": "python",
   "nbconvert_exporter": "python",
   "pygments_lexer": "ipython3",
   "version": "3.10.2"
  },
  "orig_nbformat": 4
 },
 "nbformat": 4,
 "nbformat_minor": 2
}
