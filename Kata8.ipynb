{
 "cells": [
  {
   "cell_type": "markdown",
   "metadata": {},
   "source": [
    "# Diccionarios"
   ]
  },
  {
   "cell_type": "markdown",
   "metadata": {},
   "source": [
    "Ejercicio 1"
   ]
  },
  {
   "cell_type": "code",
   "execution_count": 8,
   "metadata": {},
   "outputs": [
    {
     "name": "stdout",
     "output_type": "stream",
     "text": [
      "Tierra tiene 1 luna\n",
      "Tierra tiene una circunferencia polar de 40009\n"
     ]
    }
   ],
   "source": [
    "planet = {\n",
    "    'nombre': 'Tierra',\n",
    "    'luna': 1\n",
    "}   \n",
    "\n",
    "print(f'{planet[\"nombre\"]} tiene {planet[\"luna\"]} luna')\n",
    "\n",
    "planet['circunferencia de (km)'] = {\n",
    "    'polar': 40009,\n",
    "    'equatorial': 40076\n",
    "}\n",
    "\n",
    "print(f'{planet[\"nombre\"]} tiene una circunferencia polar de {planet[\"circunferencia de (km)\"][\"polar\"]}')"
   ]
  },
  {
   "cell_type": "markdown",
   "metadata": {},
   "source": [
    "Ejercicio 2"
   ]
  },
  {
   "cell_type": "code",
   "execution_count": 9,
   "metadata": {},
   "outputs": [
    {
     "name": "stdout",
     "output_type": "stream",
     "text": [
      "La suma de las lunas en todos los planetas es: 212 \n",
      " Las lunas promedio son: 19.272727272727273 \n",
      " Y el total de planetas es 11\n"
     ]
    }
   ],
   "source": [
    "lunas_de_planetas = {\n",
    "    'mercurio': 0,\n",
    "    'venus': 0,\n",
    "    'tierra': 1, \n",
    "    'jupiter': 79,\n",
    "    'saturno': 82,\n",
    "    'urano': 27,\n",
    "    'neptuno': 14,\n",
    "    'pluton': 5, \n",
    "    'haumea': 2, \n",
    "    'makemake': 1,\n",
    "    'eris': 1\n",
    "}\n",
    "\n",
    "lunas = lunas_de_planetas.values()\n",
    "\n",
    "planetas = len(lunas_de_planetas.keys())\n",
    "\n",
    "Lunas_totales = 0\n",
    "for lunas in lunas: \n",
    "    Lunas_totales = Lunas_totales+lunas\n",
    "\n",
    "lunas_promedio = Lunas_totales / planetas\n",
    "\n",
    "print(\"La suma de las lunas en todos los planetas es:\", Lunas_totales, '\\n',\"Las lunas promedio son:\", lunas_promedio,\"\\n\", \"Y el total de planetas es\", planetas  )"
   ]
  }
 ],
 "metadata": {
  "interpreter": {
   "hash": "0f97c36470e07eb2059676c3ca10c989606c11735a958ad6b7e094ed9b85fefa"
  },
  "kernelspec": {
   "display_name": "Python 3.10.2 64-bit",
   "language": "python",
   "name": "python3"
  },
  "language_info": {
   "codemirror_mode": {
    "name": "ipython",
    "version": 3
   },
   "file_extension": ".py",
   "mimetype": "text/x-python",
   "name": "python",
   "nbconvert_exporter": "python",
   "pygments_lexer": "ipython3",
   "version": "3.10.2"
  },
  "orig_nbformat": 4
 },
 "nbformat": 4,
 "nbformat_minor": 2
}
