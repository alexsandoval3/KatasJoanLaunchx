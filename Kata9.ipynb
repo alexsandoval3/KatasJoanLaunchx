{
 "cells": [
  {
   "cell_type": "markdown",
   "metadata": {},
   "source": [
    "# Funciones"
   ]
  },
  {
   "cell_type": "markdown",
   "metadata": {},
   "source": [
    "Ejercicio 1"
   ]
  },
  {
   "cell_type": "code",
   "execution_count": 1,
   "metadata": {},
   "outputs": [
    {
     "name": "stdout",
     "output_type": "stream",
     "text": [
      "\"Reporte de combustible:\n",
      "    Total Promedio: 51.666666666666664%\n",
      "    Tanque Principal: 0%\n",
      "    Tanque Externo: 70%\n",
      "    Tanque de Hidrogeno 85%\n",
      "    \n",
      "\"Reporte de combustible:\n",
      "    Total Promedio: 78.0%\n",
      "    Tanque Principal: 88%\n",
      "    Tanque Externo: 76%\n",
      "    Tanque de Hidrogeno 70%\n",
      "    \n"
     ]
    }
   ],
   "source": [
    "def reporte (tanque_principal, tanque_externo, tanque_de_hidrogeno):\n",
    "    promedio = (tanque_principal + tanque_externo + tanque_de_hidrogeno) / 3\n",
    "    return f\"\"\"\"Reporte de combustible:\n",
    "    Total Promedio: {promedio}%\n",
    "    Tanque Principal: {tanque_principal}%\n",
    "    Tanque Externo: {tanque_externo}%\n",
    "    Tanque de Hidrogeno {tanque_de_hidrogeno}%\n",
    "    \"\"\"\n",
    "print(reporte(00,70,85))\n",
    "\n",
    "def PROMEDIO (valores):\n",
    "    total= sum(valores)\n",
    "    numero_de_objetos = len(valores)\n",
    "    return total / numero_de_objetos\n",
    "\n",
    "PROMEDIO([80, 85, 81])\n",
    "\n",
    "def reporte (tanque_principal, tanque_externo, tanque_de_hidrogeno):\n",
    "    promedio = (tanque_principal + tanque_externo + tanque_de_hidrogeno) / 3\n",
    "    return f\"\"\"\"Reporte de combustible:\n",
    "    Total Promedio: {PROMEDIO([tanque_principal, tanque_externo, tanque_de_hidrogeno])}%\n",
    "    Tanque Principal: {tanque_principal}%\n",
    "    Tanque Externo: {tanque_externo}%\n",
    "    Tanque de Hidrogeno {tanque_de_hidrogeno}%\n",
    "    \"\"\"\n",
    "print(reporte(88,76,70))"
   ]
  },
  {
   "cell_type": "markdown",
   "metadata": {},
   "source": [
    "Ejercicio 2"
   ]
  },
  {
   "cell_type": "code",
   "execution_count": 2,
   "metadata": {},
   "outputs": [
    {
     "name": "stdout",
     "output_type": "stream",
     "text": [
      "\n",
      "    El destino de la misión es Luna\n",
      "    El total del tiempo de viaje 65 minutos\n",
      "    El total de combustible sobrante 50000 litros\n",
      "    \n"
     ]
    }
   ],
   "source": [
    "def reporte_de_mision (hora_prelanzamiento, tiempo_vuelo, destino, tanque_externo, tanque_interno):\n",
    "    return f\"\"\"\n",
    "    El destino de la misión es {destino}\n",
    "    El total del tiempo de viaje {hora_prelanzamiento + tiempo_vuelo} minutos\n",
    "    El total de combustible sobrante {tanque_externo + tanque_interno} litros\n",
    "    \"\"\"\n",
    "print(reporte_de_mision(14, 51, \"Luna\", 20000, 30000))"
   ]
  },
  {
   "cell_type": "code",
   "execution_count": 3,
   "metadata": {},
   "outputs": [
    {
     "name": "stdout",
     "output_type": "stream",
     "text": [
      "\n",
      "    El destino de la misión es luna\n",
      "    El total del tiempo de viaje 76 minutos\n",
      "    El total de combustible sobrante 23000 litros\n",
      "    \n"
     ]
    }
   ],
   "source": [
    "def reporte_de_mision (destino, *minutos, **reserva_combustible):\n",
    "    return f\"\"\"\n",
    "    El destino de la misión es {destino}\n",
    "    El total del tiempo de viaje {sum(minutos)} minutos\n",
    "    El total de combustible sobrante {sum(reserva_combustible.values())} litros\n",
    "    \"\"\"\n",
    "print(reporte_de_mision(\"luna\", 10, 15, 51, principal=3000, externo=20000))"
   ]
  },
  {
   "cell_type": "code",
   "execution_count": 4,
   "metadata": {},
   "outputs": [
    {
     "name": "stdout",
     "output_type": "stream",
     "text": [
      "\n",
      "    El destino de la misión es luna\n",
      "    El total del tiempo de viaje 76 minutos\n",
      "    El total de combustible sobrante 23000 litros\n",
      "    Tanque principal  --> quedan 3000 litros \n",
      "Tanque externo  --> quedan 20000 litros \n",
      "\n"
     ]
    }
   ],
   "source": [
    "def reporte_de_mision (destino, *minutos, **reserva_combustible):\n",
    "    reporte_principal = f\"\"\"\n",
    "    El destino de la misión es {destino}\n",
    "    El total del tiempo de viaje {sum(minutos)} minutos\n",
    "    El total de combustible sobrante {sum(reserva_combustible.values())} litros\n",
    "    \"\"\"\n",
    "    for nombre_tanque, litros in reserva_combustible.items():\n",
    "        reporte_principal += f\"Tanque {nombre_tanque}  --> quedan {litros} litros \\n\"\n",
    "    return reporte_principal\n",
    "    \n",
    "print(reporte_de_mision(\"luna\", 10, 15, 51, principal=3000, externo=20000))"
   ]
  }
 ],
 "metadata": {
  "interpreter": {
   "hash": "0f97c36470e07eb2059676c3ca10c989606c11735a958ad6b7e094ed9b85fefa"
  },
  "kernelspec": {
   "display_name": "Python 3.10.2 64-bit",
   "language": "python",
   "name": "python3"
  },
  "language_info": {
   "codemirror_mode": {
    "name": "ipython",
    "version": 3
   },
   "file_extension": ".py",
   "mimetype": "text/x-python",
   "name": "python",
   "nbconvert_exporter": "python",
   "pygments_lexer": "ipython3",
   "version": "3.10.2"
  },
  "orig_nbformat": 4
 },
 "nbformat": 4,
 "nbformat_minor": 2
}
